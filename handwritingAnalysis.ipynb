{
  "cells": [
    {
      "cell_type": "markdown",
      "metadata": {
        "id": "view-in-github",
        "colab_type": "text"
      },
      "source": [
        "<a href=\"https://colab.research.google.com/github/francescoFavareto/handwritingAnalysis/blob/main/handwritingAnalysis.ipynb\" target=\"_parent\"><img src=\"https://colab.research.google.com/assets/colab-badge.svg\" alt=\"Open In Colab\"/></a>"
      ]
    },
    {
      "cell_type": "code",
      "execution_count": null,
      "metadata": {
        "id": "BGqMmQ2aR0LU"
      },
      "outputs": [],
      "source": [
        "import os\n",
        "from PIL import Image\n",
        "import torch\n",
        "from torchvision import transforms\n",
        "from PIL import Image\n",
        "import numpy as np\n",
        "import cv2\n",
        "from scipy.ndimage import gaussian_filter1d\n",
        "import matplotlib.pyplot as plt"
      ]
    },
    {
      "cell_type": "markdown",
      "source": [
        "It is necessary to upload the images through Colab’s graphical interface for each test.\n",
        "The IAM dataset is divided into 657 folders, each containing handwritten text images from a single author.\n",
        "I decided to locally modify the dataset structure by removing the folders and placing all images into a single directory, while adding the original folder name as a prefix to each file name, thus preserving the author information.\n",
        "For example, the image “a01-000u” contained in folder “000” becomes “000a01-000u”."
      ],
      "metadata": {
        "id": "bM59-RgtOkPo"
      }
    },
    {
      "cell_type": "markdown",
      "metadata": {
        "id": "FgEn98UQJtRp"
      },
      "source": [
        "#Image Reading and Segmentation"
      ]
    },
    {
      "cell_type": "code",
      "execution_count": null,
      "metadata": {
        "id": "O2QS0wKKlS3Q"
      },
      "outputs": [],
      "source": [
        "def normalize_word_image(img, target_height=64, baseline_row=56):\n",
        "    \"\"\"\n",
        "    Normalizes a handwritten word image (binary):\n",
        "    - Crops white margins\n",
        "    - Aligns the baseline to baseline_row (if detectable)\n",
        "    - Resizes to target_height\n",
        "    \"\"\"\n",
        "\n",
        "    #Invert to facilitate processing (ink = 255)\n",
        "    img_inv = 255 - img\n",
        "\n",
        "    # Find bounding box\n",
        "    coords = cv2.findNonZero(img_inv)\n",
        "    if coords is None:\n",
        "        return 255 * np.ones((target_height, 1), dtype=np.uint8)\n",
        "\n",
        "    x, y, w, h = cv2.boundingRect(coords)\n",
        "    cropped = img[y:y+h, x:x+w]\n",
        "\n",
        "    # Horizontal projection to estimate the baseline\n",
        "    cropped_inv = 255 - cropped\n",
        "    horiz_proj = np.sum(cropped_inv > 0, axis=1)\n",
        "\n",
        "    if np.max(horiz_proj) < 5:  # too little content\n",
        "        baseline_idx = h - 1\n",
        "    else:\n",
        "        baseline_idx = np.argmax(horiz_proj)\n",
        "\n",
        "    # Calculate shift to bring the baseline to the desired row\n",
        "    shift = baseline_row - baseline_idx\n",
        "\n",
        "    # Add padding at the top/bottom if needed\n",
        "    top_pad = max(0, -shift)\n",
        "    bottom_pad = max(0, shift)\n",
        "    padded = cv2.copyMakeBorder(cropped, top_pad, bottom_pad, 0, 0, cv2.BORDER_CONSTANT, value=255)\n",
        "\n",
        "    # Apply translation\n",
        "    rows, cols = padded.shape\n",
        "    M = np.float32([[1, 0, 0], [0, 1, shift]])\n",
        "    shifted = cv2.warpAffine(padded, M, (cols, rows), borderValue=255)\n",
        "\n",
        "    # Resize to fixed height\n",
        "    scale = target_height / shifted.shape[0]\n",
        "    new_width = int(shifted.shape[1] * scale)\n",
        "    resized = cv2.resize(shifted, (new_width, target_height), interpolation=cv2.INTER_NEAREST)\n",
        "\n",
        "    return resized"
      ]
    },
    {
      "cell_type": "code",
      "execution_count": null,
      "metadata": {
        "colab": {
          "base_uri": "https://localhost:8080/"
        },
        "id": "GXvE-Z6TBlF2",
        "outputId": "c4950173-e86c-4437-a10f-4f0191be0ec6"
      },
      "outputs": [
        {
          "output_type": "stream",
          "name": "stdout",
          "text": [
            "Processing 100b03-025.png ...\n",
            "Processing 097b02-097.png ...\n",
            "Processing 099b02-105.png ...\n",
            "Processing 098b02-102.png ...\n",
            "Processing 095b02-035.png ...\n",
            "Processing 096b02-045.png ...\n",
            "Processing 000a01-000u.png ...\n"
          ]
        }
      ],
      "source": [
        "# Main lists\n",
        "all_lines_images = []        # List of segmented lines for each image\n",
        "cropped_imgs = []            # Cropped images\n",
        "binary_images = []           # Binarized images\n",
        "labels_and_lines = []        # NEW list of label + line images (non '671')\n",
        "labels_and_images = []       # NEW list of label + cropped image\n",
        "X_unknown_lines = []\n",
        "\n",
        "# Cartella contenente le immagini\n",
        "folder_path = '/content/sample_data'\n",
        "\n",
        "# Lista di tutti i file PNG nella cartella\n",
        "image_files = [f for f in os.listdir(folder_path) if f.endswith('.png')]\n",
        "\n",
        "for img_name in image_files:\n",
        "    print(f\"Processing {img_name} ...\")\n",
        "\n",
        "    # 1. Extract label\n",
        "    label = img_name[:3]\n",
        "\n",
        "    # 2. Load image\n",
        "    img_pil = Image.open(os.path.join(folder_path, img_name)).convert('L')\n",
        "    img_np = np.array(img_pil)\n",
        "\n",
        "    # 3. Vertical crop\n",
        "    height = img_np.shape[0]\n",
        "    cropped_img = img_np[700:height-800, :]\n",
        "    cropped_imgs.append(cropped_img)\n",
        "    labels_and_images.append((label, cropped_img))\n",
        "\n",
        "    # 4. Otsu binarization (white text on black background)\n",
        "    _, binary = cv2.threshold(cropped_img, 0, 255, cv2.THRESH_BINARY_INV + cv2.THRESH_OTSU)\n",
        "    binary_images.append(binary)\n",
        "\n",
        "    # 5. Horizontal projection + smoothing\n",
        "    projection = np.sum(binary, axis=1)\n",
        "    smoothed = gaussian_filter1d(projection, sigma=3)\n",
        "\n",
        "    # 6. Line segmentation via thresholding\n",
        "    threshold = np.max(smoothed) * 0.1\n",
        "    lines = []\n",
        "    in_text = False\n",
        "\n",
        "    for i, val in enumerate(smoothed):\n",
        "        if val > threshold and not in_text:\n",
        "            start = i\n",
        "            in_text = True\n",
        "        elif val <= threshold and in_text:\n",
        "            end = i\n",
        "            in_text = False\n",
        "            lines.append((start, end))\n",
        "\n",
        "    # 7. Extract lines\n",
        "    lines_images = []\n",
        "    for (y1, y2) in lines:\n",
        "        line_img = binary[y1:y2, :]\n",
        "        line_img = 255 - line_img  # black text on white background\n",
        "        line_img_norm = normalize_word_image(line_img)\n",
        "        lines_images.append(line_img)\n",
        "\n",
        "    # Insert label as the first element della lista\n",
        "    lines_images.insert(0, label)\n",
        "\n",
        "    # Aggiunge la pagina nella lista corretta\n",
        "    if (label == '000') | (label == '099'):\n",
        "        X_unknown_lines.append(lines_images)\n",
        "    else:\n",
        "        labels_and_lines.append(lines_images)"
      ]
    },
    {
      "cell_type": "code",
      "execution_count": null,
      "metadata": {
        "id": "da5XZOJt66Wz"
      },
      "outputs": [],
      "source": [
        "# np.set_printoptions(threshold=1000000000)"
      ]
    },
    {
      "cell_type": "code",
      "execution_count": null,
      "metadata": {
        "id": "WotYBvNLxsZa"
      },
      "outputs": [],
      "source": [
        "# import matplotlib.pyplot as plt\n",
        "\n",
        "# #per il test prova X_test[1][1]\n",
        "\n",
        "# plt.imshow(X_test[0][1], cmap='gray')\n",
        "# plt.axis('off')\n",
        "# plt.show()"
      ]
    },
    {
      "cell_type": "code",
      "execution_count": null,
      "metadata": {
        "id": "nLBNirO0i8Cp"
      },
      "outputs": [],
      "source": [
        "def segment_words_from_line(line_img, min_gap_width=25, min_word_width=20):\n",
        "    \"\"\"\n",
        "    Segments a single line of text (numpy image) into words using vertical projection.\n",
        "\n",
        "    Args:\n",
        "        line_img (np.ndarray): Grayscale image of a single line of text.\n",
        "        min_gap_width (int): Minimum gap width to consider as a word separator.\n",
        "        min_word_width (int): Minimum width for a blob to be considered a word.\n",
        "\n",
        "    Returns:\n",
        "        List[np.ndarray]: List of numpy images, each representing a segmented word.\n",
        "    \"\"\"\n",
        "    binary = line_img.copy()  # already binary with black text on white background\n",
        "\n",
        "\n",
        "    # Invert for projection calculation (background black, text white)\n",
        "    inv = 255 - binary\n",
        "\n",
        "    # Vertical projection\n",
        "    vertical_profile = np.sum(inv, axis=0)\n",
        "\n",
        "    # Empty columns = possible space\n",
        "    empty_columns = vertical_profile < 10\n",
        "\n",
        "    # Find gaps wide enough to separate words\n",
        "    word_boundaries = []\n",
        "    in_gap = False\n",
        "    start = 0\n",
        "\n",
        "    for i, is_empty in enumerate(empty_columns):\n",
        "        if is_empty and not in_gap:\n",
        "            start = i\n",
        "            in_gap = True\n",
        "        elif not is_empty and in_gap:\n",
        "            end = i\n",
        "            if end - start >= min_gap_width:\n",
        "                word_boundaries.append((start, end))\n",
        "            in_gap = False\n",
        "\n",
        "    # Segment words between gaps\n",
        "    word_images = []\n",
        "    prev_end = 0\n",
        "\n",
        "    for gap_start, gap_end in word_boundaries:\n",
        "        word = binary[:, prev_end:gap_start]\n",
        "        if word.shape[1] > min_word_width:\n",
        "            word_images.append(word)\n",
        "        prev_end = gap_end\n",
        "\n",
        "    # Last word\n",
        "    last_word = binary[:, prev_end:]\n",
        "    if last_word.shape[1] > min_word_width:\n",
        "        word_images.append(last_word)\n",
        "\n",
        "    return word_images"
      ]
    },
    {
      "cell_type": "code",
      "execution_count": null,
      "metadata": {
        "id": "NRtZEcnBGZgs",
        "colab": {
          "base_uri": "https://localhost:8080/"
        },
        "outputId": "158472b6-9549-476c-d65b-d130858bd502"
      },
      "outputs": [
        {
          "output_type": "stream",
          "name": "stdout",
          "text": [
            "the number of words in total in trainSet is: 277\n",
            "the number of couple in trainSet is : 38226\n"
          ]
        }
      ],
      "source": [
        "#Segment each word within the lines\n",
        "labels_and_words = []\n",
        "number_of_words_train = 0\n",
        "for idx, image in enumerate(labels_and_lines):\n",
        "  lines = []\n",
        "  for line in image[1:]:\n",
        "    words = []\n",
        "    words.append(image[0])\n",
        "    words.extend(segment_words_from_line(line))\n",
        "    lines.append(words)\n",
        "    number_of_words_train += len(words)-1\n",
        "  labels_and_words.append(lines)\n",
        "number_of_train_couple = number_of_words_train*(number_of_words_train-1)//2\n",
        "print('the number of words in total in trainSet is:', number_of_words_train)\n",
        "print('the number of couple in trainSet is :', number_of_train_couple)"
      ]
    },
    {
      "cell_type": "code",
      "execution_count": null,
      "metadata": {
        "id": "xQDqDPcvNKOf",
        "colab": {
          "base_uri": "https://localhost:8080/"
        },
        "outputId": "d6fbc3e6-37a0-49c7-f984-8b1fd0863fe2"
      },
      "outputs": [
        {
          "output_type": "stream",
          "name": "stdout",
          "text": [
            "the number of words in total in testSet is: 147\n",
            "the number of couple in trainSet is : 10731\n"
          ]
        }
      ],
      "source": [
        "#Segments the words within the lines of the test images\n",
        "X_unknown_words = []\n",
        "number_of_words_test = 0\n",
        "for image in X_unknown_lines:\n",
        "  lines = []\n",
        "  for line in image[1:]:\n",
        "    words = []\n",
        "    words.append(image[0])\n",
        "    words.extend(segment_words_from_line(line))\n",
        "    lines.append(words)\n",
        "    number_of_words_test += len(words)-1\n",
        "  X_unknown_words.append(lines)\n",
        "number_of_test_couple = number_of_words_test*(number_of_words_test-1)//2\n",
        "print('the number of words in total in testSet is:', number_of_words_test)\n",
        "print('the number of couple in trainSet is :', number_of_test_couple)"
      ]
    },
    {
      "cell_type": "markdown",
      "source": [
        "#Feature extraction and dataset creation"
      ],
      "metadata": {
        "id": "qyf3TwpcLlCm"
      }
    },
    {
      "cell_type": "code",
      "source": [
        "import random\n",
        "# 1. Appiattisci X_unknown_words (solo immagini)\n",
        "flat_test = []\n",
        "for sublist in X_unknown_words:\n",
        "    for inner in sublist:\n",
        "        flat_test.extend(inner[1:])  # ignora inner[0] (stringa)\n",
        "\n",
        "# 2. Appiattisci labels_and_words (solo immagini)\n",
        "flat_train = []\n",
        "for sublist in labels_and_words:\n",
        "    for inner in sublist:\n",
        "        flat_train.extend(inner[1:])\n",
        "\n",
        "# Numero immagini da estrarre dal train\n",
        "num_to_extract = min(len(flat_train), len(flat_test))  # in questo esempio 100\n",
        "\n",
        "# 3. Estrai num_to_extract immagini uniche dal train\n",
        "selected_train_images = random.sample(flat_train, num_to_extract)\n",
        "\n",
        "# 4. Crea coppie: ogni immagine test abbinata a tutte le estratte\n",
        "X_CASE1 = []\n",
        "for img_test in flat_test:\n",
        "    for img_train in selected_train_images:\n",
        "        X_CASE1.append((img_test, img_train))\n",
        "\n",
        "# 5. Aggiorna labels_and_words rimuovendo le immagini usate\n",
        "for img_used in selected_train_images:\n",
        "    for i, sublist in enumerate(labels_and_words):\n",
        "        for j, inner in enumerate(sublist):\n",
        "            labels_and_words[i][j] = [inner[0]] + [img for img in inner[1:] if not np.array_equal(img, img_used)]\n",
        "\n",
        "print(f\"Creati {len(X_CASE1)} abbinamenti ({len(flat_test)} test * {len(selected_train_images)} train).\")\n",
        "print(f\"Immagini rimanenti nel train: {sum(len(inner)-1 for sub in labels_and_words for inner in sub)}\")"
      ],
      "metadata": {
        "colab": {
          "base_uri": "https://localhost:8080/"
        },
        "id": "sPYqrpWzTkmX",
        "outputId": "09b39042-c5e9-4b75-d87e-8a25bfb42adf"
      },
      "execution_count": null,
      "outputs": [
        {
          "output_type": "stream",
          "name": "stdout",
          "text": [
            "Creati 21609 abbinamenti (147 test * 147 train).\n",
            "Immagini rimanenti nel train: 130\n"
          ]
        }
      ]
    },
    {
      "cell_type": "code",
      "execution_count": null,
      "metadata": {
        "colab": {
          "base_uri": "https://localhost:8080/"
        },
        "id": "67MZDUSO_Jib",
        "outputId": "ba249934-f1e7-42f4-e7f0-21ee41695e7f"
      },
      "outputs": [
        {
          "output_type": "display_data",
          "data": {
            "text/plain": [
              "<Figure size 640x480 with 1 Axes>"
            ],
            "image/png": "[encoded data removed]"
          },
          "metadata": {}
        }
      ],
      "source": [
        "plt.imshow(labels_and_lines[0][1], cmap='gray')\n",
        "plt.axis('off')\n",
        "plt.show()"
      ]
    },
    {
      "cell_type": "code",
      "execution_count": null,
      "metadata": {
        "id": "H4PvouQPpy8k"
      },
      "outputs": [],
      "source": [
        "def extract_direction_histogram(img, num_bins=8):\n",
        "    \"\"\"\n",
        "    Estrae edge map con Canny e costruisce un istogramma delle direzioni locali.\n",
        "    \"\"\"\n",
        "\n",
        "    # Edge detection (usa immagine già normalizzata e binaria)\n",
        "    edges = cv2.Canny(img, threshold1=50, threshold2=150)\n",
        "\n",
        "    # Gradienti x, y su immagine originale (non edges)\n",
        "    grad_x = cv2.Sobel(img, cv2.CV_64F, 1, 0, ksize=3)\n",
        "    grad_y = cv2.Sobel(img, cv2.CV_64F, 0, 1, ksize=3)\n",
        "\n",
        "    # Calcolo angolo e magnitudo\n",
        "    magnitude = np.sqrt(grad_x**2 + grad_y**2)\n",
        "    angle = np.arctan2(grad_y, grad_x)  # angolo in radianti [-π, π]\n",
        "    angle_deg = np.degrees(angle) % 180  # in [0, 180)\n",
        "\n",
        "    # Filtra solo nei punti edge\n",
        "    mask = edges > 0\n",
        "    selected_angles = angle_deg[mask]\n",
        "    selected_magnitudes = magnitude[mask]\n",
        "\n",
        "    # Istogramma pesato per magnitudo\n",
        "    hist, _ = np.histogram(selected_angles, bins=num_bins, range=(0, 180), weights=selected_magnitudes)\n",
        "\n",
        "    # Normalizza il vettore\n",
        "    hist_norm = hist / (np.sum(hist) + 1e-6)\n",
        "\n",
        "    return hist_norm"
      ]
    },
    {
      "cell_type": "code",
      "source": [
        "#creo feature hog\n",
        "X_test_CASE1 = []\n",
        "for tupla in X_CASE1:\n",
        "  x1 = extract_direction_histogram(tupla[0])\n",
        "  x2 = extract_direction_histogram(tupla[1])\n",
        "  X_test_CASE1.append(np.concatenate([x1, x2]))"
      ],
      "metadata": {
        "id": "RR7zDWkQ-8K4"
      },
      "execution_count": null,
      "outputs": []
    },
    {
      "cell_type": "code",
      "execution_count": null,
      "metadata": {
        "id": "C2B-e9X3oAOT"
      },
      "outputs": [],
      "source": [
        "#crea couple_words_01 per il trainSet, lista di tuple uniche che indica se due parole segmentate appartengono allo stesso autore\n",
        "\n",
        "couple_words_01 = []\n",
        "Y_siamese = []\n",
        "\n",
        "# Estrai tutte le triple (label, immagine, indice i, j)\n",
        "flat_images = []  # ogni elemento sarà (label, img, i, j)\n",
        "for i, sotto_lista in enumerate(labels_and_words):\n",
        "    for j, interno in enumerate(sotto_lista):\n",
        "        label = interno[0]\n",
        "        for k in range(1, len(interno)):\n",
        "            flat_images.append((label, interno[k], i, j))\n",
        "\n",
        "# Ora confronta tutte le coppie\n",
        "for idx1 in range(len(flat_images)):\n",
        "    for idx2 in range(idx1 + 1, len(flat_images)):\n",
        "        label1, img1, _, _ = flat_images[idx1]\n",
        "        label2, img2, _, _ = flat_images[idx2]\n",
        "        same_label = int(label1 == label2)\n",
        "        Y_siamese.append(same_label)\n",
        "        couple_words_01.append((img1, img2, same_label))"
      ]
    },
    {
      "cell_type": "code",
      "execution_count": null,
      "metadata": {
        "colab": {
          "base_uri": "https://localhost:8080/"
        },
        "id": "rrC6YvexoJjr",
        "outputId": "75dc7739-c6ec-4de6-ccbc-10a0f9b98c44"
      },
      "outputs": [
        {
          "output_type": "execute_result",
          "data": {
            "text/plain": [
              "8385"
            ]
          },
          "metadata": {},
          "execution_count": 21
        }
      ],
      "source": [
        "len(Y_siamese)"
      ]
    },
    {
      "cell_type": "code",
      "execution_count": null,
      "metadata": {
        "id": "NHhcHS1_x87N"
      },
      "outputs": [],
      "source": [
        "import random"
      ]
    },
    {
      "cell_type": "code",
      "execution_count": null,
      "metadata": {
        "id": "je7HvtKBx14T"
      },
      "outputs": [],
      "source": [
        "# couple_wordsR = random.sample(couple_words, 10000)"
      ]
    },
    {
      "cell_type": "code",
      "execution_count": null,
      "metadata": {
        "id": "pTvZ3Q-9p1_-"
      },
      "outputs": [],
      "source": [
        "import random\n",
        "import numpy as np\n",
        "\n",
        "# Shuffle con seed per riproducibilità\n",
        "random.seed(42)\n",
        "\n",
        "# Mescola le tuple\n",
        "couple_words_shuffled = couple_words_01.copy()\n",
        "random.shuffle(couple_words_shuffled)\n",
        "\n",
        "# Calcola quante vanno nel test (25%)\n",
        "test_size = len(couple_words_shuffled) // 4\n",
        "\n",
        "# Suddivisione\n",
        "test_tuples = couple_words_shuffled[:test_size]\n",
        "train_tuples = couple_words_shuffled[test_size:]\n",
        "\n",
        "# Liste train\n",
        "X = []\n",
        "Y = []\n",
        "\n",
        "# Liste test\n",
        "X_test_CASE2 = []\n",
        "Y_test_CASE2 = []\n",
        "\n",
        "# Train\n",
        "for tupla in train_tuples:\n",
        "    x1 = extract_direction_histogram(tupla[0])\n",
        "    x2 = extract_direction_histogram(tupla[1])\n",
        "    y = tupla[2]\n",
        "    X.append(np.concatenate([x1, x2]))\n",
        "    Y.append(y)\n",
        "\n",
        "# Test\n",
        "for tupla in test_tuples:\n",
        "    x1 = extract_direction_histogram(tupla[0])\n",
        "    x2 = extract_direction_histogram(tupla[1])\n",
        "    y = tupla[2]\n",
        "    X_test_CASE2.append(np.concatenate([x1, x2]))\n",
        "    Y_test_CASE2.append(y)"
      ]
    },
    {
      "cell_type": "code",
      "source": [
        "len(X)"
      ],
      "metadata": {
        "colab": {
          "base_uri": "https://localhost:8080/"
        },
        "id": "YPigxuA60Zw8",
        "outputId": "d47d1c09-a15b-4b57-9e71-ea137c944931"
      },
      "execution_count": null,
      "outputs": [
        {
          "output_type": "execute_result",
          "data": {
            "text/plain": [
              "6289"
            ]
          },
          "metadata": {},
          "execution_count": 25
        }
      ]
    },
    {
      "cell_type": "code",
      "execution_count": null,
      "metadata": {
        "id": "vD-I_O1ILfHI"
      },
      "outputs": [],
      "source": [
        "#crea couple_words per il testSet, lista di tuple uniche che indica se due parole segmentate appartengono allo stesso autore\n",
        "\n",
        "couple_words_unknown = []\n",
        "Ytest_siamese = []\n",
        "\n",
        "# Estrai tutte le triple (label, immagine, indice i, j)\n",
        "flat_imagestest = []  # ogni elemento sarà (label, img, i, j)\n",
        "for i, sotto_lista in enumerate(X_unknown_words):\n",
        "    for j, interno in enumerate(sotto_lista):\n",
        "        label = interno[0]\n",
        "        for k in range(1, len(interno)):\n",
        "            flat_imagestest.append((label, interno[k], i, j))\n",
        "\n",
        "# Ora confronta tutte le coppie\n",
        "for idx1 in range(len(flat_imagestest)):\n",
        "    for idx2 in range(idx1 + 1, len(flat_imagestest)):\n",
        "        label1, img1, _, _ = flat_imagestest[idx1]\n",
        "        label2, img2, _, _ = flat_imagestest[idx2]\n",
        "        same_label = int(label1 == label2)\n",
        "        Ytest_siamese.append(same_label)\n",
        "        couple_words_unknown.append((img1, img2, same_label))"
      ]
    },
    {
      "cell_type": "code",
      "source": [
        "len(couple_words_unknown)"
      ],
      "metadata": {
        "colab": {
          "base_uri": "https://localhost:8080/"
        },
        "id": "gI4u5OrsR6zf",
        "outputId": "4967d79a-d7aa-4d0b-89e5-9f606a6b38c5"
      },
      "execution_count": null,
      "outputs": [
        {
          "output_type": "execute_result",
          "data": {
            "text/plain": [
              "10731"
            ]
          },
          "metadata": {},
          "execution_count": 27
        }
      ]
    },
    {
      "cell_type": "code",
      "execution_count": null,
      "metadata": {
        "id": "eZMaPRTrM1w0"
      },
      "outputs": [],
      "source": [
        "#creo feature hog e (volendo) labels per il test\n",
        "X_test_CASE3 = []\n",
        "Ytest_CASE3 = []\n",
        "for tupla in couple_words_unknown:\n",
        "  x1 = extract_direction_histogram(tupla[0])\n",
        "  x2 = extract_direction_histogram(tupla[1])\n",
        "  y = tupla[2]\n",
        "  X_test_CASE3.append(np.concatenate([x1, x2]))\n",
        "  Ytest_CASE3.append(y)"
      ]
    },
    {
      "cell_type": "code",
      "execution_count": null,
      "metadata": {
        "colab": {
          "base_uri": "https://localhost:8080/"
        },
        "id": "ewkEBjc5l0X1",
        "outputId": "d00a874d-2907-49ed-be00-3ecd8e5eb618"
      },
      "outputs": [
        {
          "output_type": "stream",
          "name": "stdout",
          "text": [
            "train 097\n",
            "train 098\n",
            "train 095\n",
            "train 096\n",
            "test 100\n",
            "test 099\n",
            "test 000\n"
          ]
        }
      ],
      "source": [
        "#controlla la composizione di train e test\n",
        "for lines in labels_and_lines:\n",
        "  print('train', lines[0])\n",
        "\n",
        "for lines in X_unknown_lines:\n",
        "  print('test', lines[0])"
      ]
    },
    {
      "cell_type": "code",
      "execution_count": null,
      "metadata": {
        "id": "gDxUGjxDnyos"
      },
      "outputs": [],
      "source": [
        "#CASE1 Y_test quando confrontiamo X_test3 con len(X_test3) elementi estratti randomicamente dal trainSet (aurori noti con ignoti) è semplicemente un vettore di zeri\n",
        "#lungo len(X_test3)\n",
        "\n",
        "Ytest_CASE1 = np.zeros(len(X_test_CASE1))"
      ]
    },
    {
      "cell_type": "markdown",
      "source": [
        "#Classification algorithms"
      ],
      "metadata": {
        "id": "AahcilJmLzMO"
      }
    },
    {
      "cell_type": "code",
      "execution_count": null,
      "metadata": {
        "id": "jzoHUViRwhU1"
      },
      "outputs": [],
      "source": [
        "from sklearn.model_selection import train_test_split"
      ]
    },
    {
      "cell_type": "code",
      "execution_count": null,
      "metadata": {
        "id": "P5SaNKtswWSQ"
      },
      "outputs": [],
      "source": [
        "# X_train, X_test, Y_train, Y_test = train_test_split(X, Y, test_size=0.25, random_state=42) credo non serva"
      ]
    },
    {
      "cell_type": "code",
      "execution_count": null,
      "metadata": {
        "id": "ZyjLV78Ovyrp"
      },
      "outputs": [],
      "source": [
        "#modello svc\n",
        "from sklearn.svm import SVC\n",
        "from sklearn.model_selection import GridSearchCV"
      ]
    },
    {
      "cell_type": "code",
      "source": [
        "len(X)"
      ],
      "metadata": {
        "colab": {
          "base_uri": "https://localhost:8080/"
        },
        "id": "N7nyXV0t09yv",
        "outputId": "e63e30d5-804c-4d50-807e-d0b364de9360"
      },
      "execution_count": null,
      "outputs": [
        {
          "output_type": "execute_result",
          "data": {
            "text/plain": [
              "6289"
            ]
          },
          "metadata": {},
          "execution_count": 34
        }
      ]
    },
    {
      "cell_type": "code",
      "execution_count": null,
      "metadata": {
        "colab": {
          "base_uri": "https://localhost:8080/"
        },
        "id": "NmniH28kve47",
        "outputId": "40ec00bf-dfda-42c9-9a03-89a1743318ce"
      },
      "outputs": [
        {
          "output_type": "stream",
          "name": "stdout",
          "text": [
            "Fitting 10 folds for each of 100 candidates, totalling 1000 fits\n"
          ]
        }
      ],
      "source": [
        " #selezione iperparametri migliori\n",
        "\n",
        "grid = {'C':      np.logspace(-4,3,10),\n",
        "       'kernel': ['rbf'],                     #per aumentare velocità: 'kernel': ['linear', 'rbf']\n",
        "        'gamma':  np.logspace(-4,3,10)\n",
        "        }\n",
        "\n",
        "MS = GridSearchCV(estimator = SVC(),\n",
        "                  param_grid = grid,\n",
        "                  scoring = 'f1',\n",
        "                  cv = 10, #cross validation numner of folds\n",
        "                  verbose = 1\n",
        "                  )\n",
        "\n",
        "H = MS.fit(X, Y)"
      ]
    },
    {
      "cell_type": "code",
      "execution_count": null,
      "metadata": {
        "colab": {
          "base_uri": "https://localhost:8080/",
          "height": 80
        },
        "id": "zFHL-AlHvg9g",
        "outputId": "194681e2-45cb-46a9-bf27-8be52ea758a2"
      },
      "outputs": [
        {
          "output_type": "execute_result",
          "data": {
            "text/plain": [
              "SVC(C=np.float64(1000.0), gamma=np.float64(27.825594022071257))"
            ],
            "text/html": [
              "<style>#sk-container-id-1 {\n",
              "  /* Definition of color scheme common for light and dark mode */\n",
              "  --sklearn-color-text: #000;\n",
              "  --sklearn-color-text-muted: #666;\n",
              "  --sklearn-color-line: gray;\n",
              "  /* Definition of color scheme for unfitted estimators */\n",
              "  --sklearn-color-unfitted-level-0: #fff5e6;\n",
              "  --sklearn-color-unfitted-level-1: #f6e4d2;\n",
              "  --sklearn-color-unfitted-level-2: #ffe0b3;\n",
              "  --sklearn-color-unfitted-level-3: chocolate;\n",
              "  /* Definition of color scheme for fitted estimators */\n",
              "  --sklearn-color-fitted-level-0: #f0f8ff;\n",
              "  --sklearn-color-fitted-level-1: #d4ebff;\n",
              "  --sklearn-color-fitted-level-2: #b3dbfd;\n",
              "  --sklearn-color-fitted-level-3: cornflowerblue;\n",
              "\n",
              "  /* Specific color for light theme */\n",
              "  --sklearn-color-text-on-default-background: var(--sg-text-color, var(--theme-code-foreground, var(--jp-content-font-color1, black)));\n",
              "  --sklearn-color-background: var(--sg-background-color, var(--theme-background, var(--jp-layout-color0, white)));\n",
              "  --sklearn-color-border-box: var(--sg-text-color, var(--theme-code-foreground, var(--jp-content-font-color1, black)));\n",
              "  --sklearn-color-icon: #696969;\n",
              "\n",
              "  @media (prefers-color-scheme: dark) {\n",
              "    /* Redefinition of color scheme for dark theme */\n",
              "    --sklearn-color-text-on-default-background: var(--sg-text-color, var(--theme-code-foreground, var(--jp-content-font-color1, white)));\n",
              "    --sklearn-color-background: var(--sg-background-color, var(--theme-background, var(--jp-layout-color0, #111)));\n",
              "    --sklearn-color-border-box: var(--sg-text-color, var(--theme-code-foreground, var(--jp-content-font-color1, white)));\n",
              "    --sklearn-color-icon: #878787;\n",
              "  }\n",
              "}\n",
              "\n",
              "#sk-container-id-1 {\n",
              "  color: var(--sklearn-color-text);\n",
              "}\n",
              "\n",
              "#sk-container-id-1 pre {\n",
              "  padding: 0;\n",
              "}\n",
              "\n",
              "#sk-container-id-1 input.sk-hidden--visually {\n",
              "  border: 0;\n",
              "  clip: rect(1px 1px 1px 1px);\n",
              "  clip: rect(1px, 1px, 1px, 1px);\n",
              "  height: 1px;\n",
              "  margin: -1px;\n",
              "  overflow: hidden;\n",
              "  padding: 0;\n",
              "  position: absolute;\n",
              "  width: 1px;\n",
              "}\n",
              "\n",
              "#sk-container-id-1 div.sk-dashed-wrapped {\n",
              "  border: 1px dashed var(--sklearn-color-line);\n",
              "  margin: 0 0.4em 0.5em 0.4em;\n",
              "  box-sizing: border-box;\n",
              "  padding-bottom: 0.4em;\n",
              "  background-color: var(--sklearn-color-background);\n",
              "}\n",
              "\n",
              "#sk-container-id-1 div.sk-container {\n",
              "  /* jupyter's `normalize.less` sets `[hidden] { display: none; }`\n",
              "     but bootstrap.min.css set `[hidden] { display: none !important; }`\n",
              "     so we also need the `!important` here to be able to override the\n",
              "     default hidden behavior on the sphinx rendered scikit-learn.org.\n",
              "     See: https://github.com/scikit-learn/scikit-learn/issues/21755 */\n",
              "  display: inline-block !important;\n",
              "  position: relative;\n",
              "}\n",
              "\n",
              "#sk-container-id-1 div.sk-text-repr-fallback {\n",
              "  display: none;\n",
              "}\n",
              "\n",
              "div.sk-parallel-item,\n",
              "div.sk-serial,\n",
              "div.sk-item {\n",
              "  /* draw centered vertical line to link estimators */\n",
              "  background-image: linear-gradient(var(--sklearn-color-text-on-default-background), var(--sklearn-color-text-on-default-background));\n",
              "  background-size: 2px 100%;\n",
              "  background-repeat: no-repeat;\n",
              "  background-position: center center;\n",
              "}\n",
              "\n",
              "/* Parallel-specific style estimator block */\n",
              "\n",
              "#sk-container-id-1 div.sk-parallel-item::after {\n",
              "  content: \"\";\n",
              "  width: 100%;\n",
              "  border-bottom: 2px solid var(--sklearn-color-text-on-default-background);\n",
              "  flex-grow: 1;\n",
              "}\n",
              "\n",
              "#sk-container-id-1 div.sk-parallel {\n",
              "  display: flex;\n",
              "  align-items: stretch;\n",
              "  justify-content: center;\n",
              "  background-color: var(--sklearn-color-background);\n",
              "  position: relative;\n",
              "}\n",
              "\n",
              "#sk-container-id-1 div.sk-parallel-item {\n",
              "  display: flex;\n",
              "  flex-direction: column;\n",
              "}\n",
              "\n",
              "#sk-container-id-1 div.sk-parallel-item:first-child::after {\n",
              "  align-self: flex-end;\n",
              "  width: 50%;\n",
              "}\n",
              "\n",
              "#sk-container-id-1 div.sk-parallel-item:last-child::after {\n",
              "  align-self: flex-start;\n",
              "  width: 50%;\n",
              "}\n",
              "\n",
              "#sk-container-id-1 div.sk-parallel-item:only-child::after {\n",
              "  width: 0;\n",
              "}\n",
              "\n",
              "/* Serial-specific style estimator block */\n",
              "\n",
              "#sk-container-id-1 div.sk-serial {\n",
              "  display: flex;\n",
              "  flex-direction: column;\n",
              "  align-items: center;\n",
              "  background-color: var(--sklearn-color-background);\n",
              "  padding-right: 1em;\n",
              "  padding-left: 1em;\n",
              "}\n",
              "\n",
              "\n",
              "/* Toggleable style: style used for estimator/Pipeline/ColumnTransformer box that is\n",
              "clickable and can be expanded/collapsed.\n",
              "- Pipeline and ColumnTransformer use this feature and define the default style\n",
              "- Estimators will overwrite some part of the style using the `sk-estimator` class\n",
              "*/\n",
              "\n",
              "/* Pipeline and ColumnTransformer style (default) */\n",
              "\n",
              "#sk-container-id-1 div.sk-toggleable {\n",
              "  /* Default theme specific background. It is overwritten whether we have a\n",
              "  specific estimator or a Pipeline/ColumnTransformer */\n",
              "  background-color: var(--sklearn-color-background);\n",
              "}\n",
              "\n",
              "/* Toggleable label */\n",
              "#sk-container-id-1 label.sk-toggleable__label {\n",
              "  cursor: pointer;\n",
              "  display: flex;\n",
              "  width: 100%;\n",
              "  margin-bottom: 0;\n",
              "  padding: 0.5em;\n",
              "  box-sizing: border-box;\n",
              "  text-align: center;\n",
              "  align-items: start;\n",
              "  justify-content: space-between;\n",
              "  gap: 0.5em;\n",
              "}\n",
              "\n",
              "#sk-container-id-1 label.sk-toggleable__label .caption {\n",
              "  font-size: 0.6rem;\n",
              "  font-weight: lighter;\n",
              "  color: var(--sklearn-color-text-muted);\n",
              "}\n",
              "\n",
              "#sk-container-id-1 label.sk-toggleable__label-arrow:before {\n",
              "  /* Arrow on the left of the label */\n",
              "  content: \"▸\";\n",
              "  float: left;\n",
              "  margin-right: 0.25em;\n",
              "  color: var(--sklearn-color-icon);\n",
              "}\n",
              "\n",
              "#sk-container-id-1 label.sk-toggleable__label-arrow:hover:before {\n",
              "  color: var(--sklearn-color-text);\n",
              "}\n",
              "\n",
              "/* Toggleable content - dropdown */\n",
              "\n",
              "#sk-container-id-1 div.sk-toggleable__content {\n",
              "  max-height: 0;\n",
              "  max-width: 0;\n",
              "  overflow: hidden;\n",
              "  text-align: left;\n",
              "  /* unfitted */\n",
              "  background-color: var(--sklearn-color-unfitted-level-0);\n",
              "}\n",
              "\n",
              "#sk-container-id-1 div.sk-toggleable__content.fitted {\n",
              "  /* fitted */\n",
              "  background-color: var(--sklearn-color-fitted-level-0);\n",
              "}\n",
              "\n",
              "#sk-container-id-1 div.sk-toggleable__content pre {\n",
              "  margin: 0.2em;\n",
              "  border-radius: 0.25em;\n",
              "  color: var(--sklearn-color-text);\n",
              "  /* unfitted */\n",
              "  background-color: var(--sklearn-color-unfitted-level-0);\n",
              "}\n",
              "\n",
              "#sk-container-id-1 div.sk-toggleable__content.fitted pre {\n",
              "  /* unfitted */\n",
              "  background-color: var(--sklearn-color-fitted-level-0);\n",
              "}\n",
              "\n",
              "#sk-container-id-1 input.sk-toggleable__control:checked~div.sk-toggleable__content {\n",
              "  /* Expand drop-down */\n",
              "  max-height: 200px;\n",
              "  max-width: 100%;\n",
              "  overflow: auto;\n",
              "}\n",
              "\n",
              "#sk-container-id-1 input.sk-toggleable__control:checked~label.sk-toggleable__label-arrow:before {\n",
              "  content: \"▾\";\n",
              "}\n",
              "\n",
              "/* Pipeline/ColumnTransformer-specific style */\n",
              "\n",
              "#sk-container-id-1 div.sk-label input.sk-toggleable__control:checked~label.sk-toggleable__label {\n",
              "  color: var(--sklearn-color-text);\n",
              "  background-color: var(--sklearn-color-unfitted-level-2);\n",
              "}\n",
              "\n",
              "#sk-container-id-1 div.sk-label.fitted input.sk-toggleable__control:checked~label.sk-toggleable__label {\n",
              "  background-color: var(--sklearn-color-fitted-level-2);\n",
              "}\n",
              "\n",
              "/* Estimator-specific style */\n",
              "\n",
              "/* Colorize estimator box */\n",
              "#sk-container-id-1 div.sk-estimator input.sk-toggleable__control:checked~label.sk-toggleable__label {\n",
              "  /* unfitted */\n",
              "  background-color: var(--sklearn-color-unfitted-level-2);\n",
              "}\n",
              "\n",
              "#sk-container-id-1 div.sk-estimator.fitted input.sk-toggleable__control:checked~label.sk-toggleable__label {\n",
              "  /* fitted */\n",
              "  background-color: var(--sklearn-color-fitted-level-2);\n",
              "}\n",
              "\n",
              "#sk-container-id-1 div.sk-label label.sk-toggleable__label,\n",
              "#sk-container-id-1 div.sk-label label {\n",
              "  /* The background is the default theme color */\n",
              "  color: var(--sklearn-color-text-on-default-background);\n",
              "}\n",
              "\n",
              "/* On hover, darken the color of the background */\n",
              "#sk-container-id-1 div.sk-label:hover label.sk-toggleable__label {\n",
              "  color: var(--sklearn-color-text);\n",
              "  background-color: var(--sklearn-color-unfitted-level-2);\n",
              "}\n",
              "\n",
              "/* Label box, darken color on hover, fitted */\n",
              "#sk-container-id-1 div.sk-label.fitted:hover label.sk-toggleable__label.fitted {\n",
              "  color: var(--sklearn-color-text);\n",
              "  background-color: var(--sklearn-color-fitted-level-2);\n",
              "}\n",
              "\n",
              "/* Estimator label */\n",
              "\n",
              "#sk-container-id-1 div.sk-label label {\n",
              "  font-family: monospace;\n",
              "  font-weight: bold;\n",
              "  display: inline-block;\n",
              "  line-height: 1.2em;\n",
              "}\n",
              "\n",
              "#sk-container-id-1 div.sk-label-container {\n",
              "  text-align: center;\n",
              "}\n",
              "\n",
              "/* Estimator-specific */\n",
              "#sk-container-id-1 div.sk-estimator {\n",
              "  font-family: monospace;\n",
              "  border: 1px dotted var(--sklearn-color-border-box);\n",
              "  border-radius: 0.25em;\n",
              "  box-sizing: border-box;\n",
              "  margin-bottom: 0.5em;\n",
              "  /* unfitted */\n",
              "  background-color: var(--sklearn-color-unfitted-level-0);\n",
              "}\n",
              "\n",
              "#sk-container-id-1 div.sk-estimator.fitted {\n",
              "  /* fitted */\n",
              "  background-color: var(--sklearn-color-fitted-level-0);\n",
              "}\n",
              "\n",
              "/* on hover */\n",
              "#sk-container-id-1 div.sk-estimator:hover {\n",
              "  /* unfitted */\n",
              "  background-color: var(--sklearn-color-unfitted-level-2);\n",
              "}\n",
              "\n",
              "#sk-container-id-1 div.sk-estimator.fitted:hover {\n",
              "  /* fitted */\n",
              "  background-color: var(--sklearn-color-fitted-level-2);\n",
              "}\n",
              "\n",
              "/* Specification for estimator info (e.g. \"i\" and \"?\") */\n",
              "\n",
              "/* Common style for \"i\" and \"?\" */\n",
              "\n",
              ".sk-estimator-doc-link,\n",
              "a:link.sk-estimator-doc-link,\n",
              "a:visited.sk-estimator-doc-link {\n",
              "  float: right;\n",
              "  font-size: smaller;\n",
              "  line-height: 1em;\n",
              "  font-family: monospace;\n",
              "  background-color: var(--sklearn-color-background);\n",
              "  border-radius: 1em;\n",
              "  height: 1em;\n",
              "  width: 1em;\n",
              "  text-decoration: none !important;\n",
              "  margin-left: 0.5em;\n",
              "  text-align: center;\n",
              "  /* unfitted */\n",
              "  border: var(--sklearn-color-unfitted-level-1) 1pt solid;\n",
              "  color: var(--sklearn-color-unfitted-level-1);\n",
              "}\n",
              "\n",
              ".sk-estimator-doc-link.fitted,\n",
              "a:link.sk-estimator-doc-link.fitted,\n",
              "a:visited.sk-estimator-doc-link.fitted {\n",
              "  /* fitted */\n",
              "  border: var(--sklearn-color-fitted-level-1) 1pt solid;\n",
              "  color: var(--sklearn-color-fitted-level-1);\n",
              "}\n",
              "\n",
              "/* On hover */\n",
              "div.sk-estimator:hover .sk-estimator-doc-link:hover,\n",
              ".sk-estimator-doc-link:hover,\n",
              "div.sk-label-container:hover .sk-estimator-doc-link:hover,\n",
              ".sk-estimator-doc-link:hover {\n",
              "  /* unfitted */\n",
              "  background-color: var(--sklearn-color-unfitted-level-3);\n",
              "  color: var(--sklearn-color-background);\n",
              "  text-decoration: none;\n",
              "}\n",
              "\n",
              "div.sk-estimator.fitted:hover .sk-estimator-doc-link.fitted:hover,\n",
              ".sk-estimator-doc-link.fitted:hover,\n",
              "div.sk-label-container:hover .sk-estimator-doc-link.fitted:hover,\n",
              ".sk-estimator-doc-link.fitted:hover {\n",
              "  /* fitted */\n",
              "  background-color: var(--sklearn-color-fitted-level-3);\n",
              "  color: var(--sklearn-color-background);\n",
              "  text-decoration: none;\n",
              "}\n",
              "\n",
              "/* Span, style for the box shown on hovering the info icon */\n",
              ".sk-estimator-doc-link span {\n",
              "  display: none;\n",
              "  z-index: 9999;\n",
              "  position: relative;\n",
              "  font-weight: normal;\n",
              "  right: .2ex;\n",
              "  padding: .5ex;\n",
              "  margin: .5ex;\n",
              "  width: min-content;\n",
              "  min-width: 20ex;\n",
              "  max-width: 50ex;\n",
              "  color: var(--sklearn-color-text);\n",
              "  box-shadow: 2pt 2pt 4pt #999;\n",
              "  /* unfitted */\n",
              "  background: var(--sklearn-color-unfitted-level-0);\n",
              "  border: .5pt solid var(--sklearn-color-unfitted-level-3);\n",
              "}\n",
              "\n",
              ".sk-estimator-doc-link.fitted span {\n",
              "  /* fitted */\n",
              "  background: var(--sklearn-color-fitted-level-0);\n",
              "  border: var(--sklearn-color-fitted-level-3);\n",
              "}\n",
              "\n",
              ".sk-estimator-doc-link:hover span {\n",
              "  display: block;\n",
              "}\n",
              "\n",
              "/* \"?\"-specific style due to the `<a>` HTML tag */\n",
              "\n",
              "#sk-container-id-1 a.estimator_doc_link {\n",
              "  float: right;\n",
              "  font-size: 1rem;\n",
              "  line-height: 1em;\n",
              "  font-family: monospace;\n",
              "  background-color: var(--sklearn-color-background);\n",
              "  border-radius: 1rem;\n",
              "  height: 1rem;\n",
              "  width: 1rem;\n",
              "  text-decoration: none;\n",
              "  /* unfitted */\n",
              "  color: var(--sklearn-color-unfitted-level-1);\n",
              "  border: var(--sklearn-color-unfitted-level-1) 1pt solid;\n",
              "}\n",
              "\n",
              "#sk-container-id-1 a.estimator_doc_link.fitted {\n",
              "  /* fitted */\n",
              "  border: var(--sklearn-color-fitted-level-1) 1pt solid;\n",
              "  color: var(--sklearn-color-fitted-level-1);\n",
              "}\n",
              "\n",
              "/* On hover */\n",
              "#sk-container-id-1 a.estimator_doc_link:hover {\n",
              "  /* unfitted */\n",
              "  background-color: var(--sklearn-color-unfitted-level-3);\n",
              "  color: var(--sklearn-color-background);\n",
              "  text-decoration: none;\n",
              "}\n",
              "\n",
              "#sk-container-id-1 a.estimator_doc_link.fitted:hover {\n",
              "  /* fitted */\n",
              "  background-color: var(--sklearn-color-fitted-level-3);\n",
              "}\n",
              "</style><div id=\"sk-container-id-1\" class=\"sk-top-container\"><div class=\"sk-text-repr-fallback\"><pre>SVC(C=np.float64(1000.0), gamma=np.float64(27.825594022071257))</pre><b>In a Jupyter environment, please rerun this cell to show the HTML representation or trust the notebook. <br />On GitHub, the HTML representation is unable to render, please try loading this page with nbviewer.org.</b></div><div class=\"sk-container\" hidden><div class=\"sk-item\"><div class=\"sk-estimator fitted sk-toggleable\"><input class=\"sk-toggleable__control sk-hidden--visually\" id=\"sk-estimator-id-1\" type=\"checkbox\" checked><label for=\"sk-estimator-id-1\" class=\"sk-toggleable__label fitted sk-toggleable__label-arrow\"><div><div>SVC</div></div><div><a class=\"sk-estimator-doc-link fitted\" rel=\"noreferrer\" target=\"_blank\" href=\"https://scikit-learn.org/1.6/modules/generated/sklearn.svm.SVC.html\">?<span>Documentation for SVC</span></a><span class=\"sk-estimator-doc-link fitted\">i<span>Fitted</span></span></div></label><div class=\"sk-toggleable__content fitted\"><pre>SVC(C=np.float64(1000.0), gamma=np.float64(27.825594022071257))</pre></div> </div></div></div></div>"
            ]
          },
          "metadata": {},
          "execution_count": 36
        }
      ],
      "source": [
        "#creo modello con parametri migliori\n",
        "M = SVC(C = H.best_params_['C'],  #da runnare\n",
        "        kernel = H.best_params_['kernel'],\n",
        "        gamma = H.best_params_['gamma']\n",
        "        )\n",
        "\n",
        "M.fit(X, Y)"
      ]
    },
    {
      "cell_type": "markdown",
      "source": [
        "#Results Analysis"
      ],
      "metadata": {
        "id": "SK8A1lc1MJE6"
      }
    },
    {
      "cell_type": "code",
      "execution_count": null,
      "metadata": {
        "id": "4rtWfSLS4xwT"
      },
      "outputs": [],
      "source": [
        "from sklearn.metrics import accuracy_score\n",
        "from sklearn.metrics import confusion_matrix\n",
        "import seaborn as sns"
      ]
    },
    {
      "cell_type": "code",
      "execution_count": null,
      "metadata": {
        "id": "euQh2SgxvjdD",
        "colab": {
          "base_uri": "https://localhost:8080/",
          "height": 489
        },
        "outputId": "3af7f1ad-bba7-4686-e276-b56efaa1f863"
      },
      "outputs": [
        {
          "output_type": "execute_result",
          "data": {
            "text/plain": [
              "0.7034106159470591"
            ]
          },
          "metadata": {},
          "execution_count": 38
        },
        {
          "output_type": "display_data",
          "data": {
            "text/plain": [
              "<Figure size 640x480 with 2 Axes>"
            ],
            "image/png": "[encoded data removed]"
          },
          "metadata": {}
        }
      ],
      "source": [
        "#CASE1\n",
        "Ypred_CASE1 = M.predict(X_test_CASE1)\n",
        "accuracy_score(Ytest_CASE1,Ypred_CASE1)\n",
        "cm = confusion_matrix(Ytest_CASE1,Ypred_CASE1)\n",
        "\n",
        "ax = plt.subplot()\n",
        "sns.heatmap(cm, annot=True, fmt='g', ax=ax);\n",
        "\n",
        "ax.set_xlabel('Predicted labels');\n",
        "ax.set_ylabel('True labels');\n",
        "ax.set_title('Confusion Matrix');\n",
        "ax.xaxis.set_ticklabels(['different','the same']);\n",
        "ax.yaxis.set_ticklabels(['different','the same']);\n",
        "\n",
        "accuracy_score(Ytest_CASE1,Ypred_CASE1)"
      ]
    },
    {
      "cell_type": "code",
      "execution_count": null,
      "metadata": {
        "id": "RogOTcsK8HQl",
        "colab": {
          "base_uri": "https://localhost:8080/",
          "height": 489
        },
        "outputId": "d345752f-c91c-4200-b352-eff785ef233d"
      },
      "outputs": [
        {
          "output_type": "execute_result",
          "data": {
            "text/plain": [
              "0.987118320610687"
            ]
          },
          "metadata": {},
          "execution_count": 39
        },
        {
          "output_type": "display_data",
          "data": {
            "text/plain": [
              "<Figure size 640x480 with 2 Axes>"
            ],
            "image/png": "[encoded data removed]"
          },
          "metadata": {}
        }
      ],
      "source": [
        "#CASE2\n",
        "Ypred_CASE2 = M.predict(X_test_CASE2)\n",
        "accuracy_score(Y_test_CASE2,Ypred_CASE2)\n",
        "cm = confusion_matrix(Y_test_CASE2,Ypred_CASE2)\n",
        "\n",
        "ax = plt.subplot()\n",
        "sns.heatmap(cm, annot=True, fmt='g', ax=ax);\n",
        "\n",
        "ax.set_xlabel('Predicted labels');\n",
        "ax.set_ylabel('True labels');\n",
        "ax.set_title('Confusion Matrix');\n",
        "ax.xaxis.set_ticklabels(['different','the same']);\n",
        "ax.yaxis.set_ticklabels(['different','the same']);\n",
        "\n",
        "accuracy_score(Y_test_CASE2,Ypred_CASE2)"
      ]
    },
    {
      "cell_type": "code",
      "execution_count": null,
      "metadata": {
        "id": "47KIdujh8IUx",
        "colab": {
          "base_uri": "https://localhost:8080/",
          "height": 489
        },
        "outputId": "7e5f0e18-515b-428a-b473-680210c81b34"
      },
      "outputs": [
        {
          "output_type": "execute_result",
          "data": {
            "text/plain": [
              "0.5579163172118162"
            ]
          },
          "metadata": {},
          "execution_count": 40
        },
        {
          "output_type": "display_data",
          "data": {
            "text/plain": [
              "<Figure size 640x480 with 2 Axes>"
            ],
            "image/png": "[encoded data removed]"
          },
          "metadata": {}
        }
      ],
      "source": [
        "#CASE3\n",
        "Ypred_CASE3 = M.predict(X_test_CASE3)\n",
        "accuracy_score(Ytest_CASE3,Ypred_CASE3)\n",
        "cm = confusion_matrix(Ytest_CASE3,Ypred_CASE3)\n",
        "\n",
        "ax = plt.subplot()\n",
        "sns.heatmap(cm, annot=True, fmt='g', ax=ax);\n",
        "\n",
        "ax.set_xlabel('Predicted labels');\n",
        "ax.set_ylabel('True labels');\n",
        "ax.set_title('Confusion Matrix');\n",
        "ax.xaxis.set_ticklabels(['different','the same']);\n",
        "ax.yaxis.set_ticklabels(['different','the same']);\n",
        "\n",
        "accuracy_score(Ytest_CASE3,Ypred_CASE3)"
      ]
    }
  ],
  "metadata": {
    "colab": {
      "provenance": [],
      "collapsed_sections": [
        "FgEn98UQJtRp",
        "qyf3TwpcLlCm",
        "AahcilJmLzMO",
        "SK8A1lc1MJE6"
      ],
      "authorship_tag": "ABX9TyMZApIgXfR5ceY+zpwuC3qN",
      "include_colab_link": true
    },
    "kernelspec": {
      "display_name": "Python 3",
      "name": "python3"
    },
    "language_info": {
      "name": "python"
    }
  },
  "nbformat": 4,
  "nbformat_minor": 0
}